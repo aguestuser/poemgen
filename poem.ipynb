{
 "cells": [
  {
   "cell_type": "code",
   "execution_count": 226,
   "id": "f4a7ade8-bdec-4797-a962-ec21434b7458",
   "metadata": {},
   "outputs": [],
   "source": [
    "import re\n",
    "\n",
    "def split(text: str) -> list[str]:\n",
    "    return re.split(r'[ \\n]', text)\n",
    "\n",
    "walden = split(open(\"walden.txt\").read())\n",
    "friedman = split(open(\"friedman.txt\").read())\n",
    "hacker_manifesto = split(open(\"hacker-manifesto.txt\").read())\n",
    "zapatistas = split(open(\"zapatista.txt\").read())\n",
    "\n",
    "texts = [walden, friedman, hacker]\n",
    " "
   ]
  },
  {
   "cell_type": "code",
   "execution_count": 224,
   "id": "dacfe931-5980-4092-a8a0-6eacadc7ec81",
   "metadata": {},
   "outputs": [],
   "source": [
    "import random\n",
    "\n",
    "def select(text: str, max_length: int = 12) -> list[str]:\n",
    "    min_length = 3\n",
    "    start = random.randint(0, len(text) - max_length)\n",
    "    end = start + random.randint(min_length, max_length)\n",
    "    snippet = text[start:end]\n",
    "    word_pairs = [\" \".join(pair) for pair in list(zip(snippet[::2], snippet[1::2]))]\n",
    "    return \"\\n\".join(word_pairs)\n",
    "\n"
   ]
  },
  {
   "cell_type": "code",
   "execution_count": 235,
   "id": "7639dfe5-49ea-4238-a0e6-d002004b0964",
   "metadata": {},
   "outputs": [],
   "source": [
    "def make_poem():\n",
    "    print(\"remember when\\n\" + select(walden) + \"\\n\")\n",
    "    print(\"rebel against\\nthe confines \\n\" + select(friedman) + \"\\n\")\n",
    "    print(\"we are \\nalready liberated\\nbecause we\\n\" + select(zapatistas) + \"\\n\")\n",
    "    print(\"one day\\nwe will\\nsee that\\n\" + select(hacker_manifesto) + \"\\n\")\n",
    "    print(\"so...\\nkeep rising\")"
   ]
  },
  {
   "cell_type": "code",
   "execution_count": 239,
   "id": "427400ad-b120-487d-aab4-fa66484f73c1",
   "metadata": {},
   "outputs": [
    {
     "name": "stdout",
     "output_type": "stream",
     "text": [
      "remember when\n",
      "butterfly still\n",
      "\n",
      "rebel against\n",
      "the confines \n",
      "would bear\n",
      "an interest\n",
      "\n",
      "we are \n",
      "already liberated\n",
      "because we\n",
      "right, well\n",
      "now we\n",
      "are going\n",
      "to tell\n",
      "\n",
      "one day\n",
      "we will\n",
      "see that\n",
      "of its\n",
      "freedom from\n",
      "its own\n",
      "\n",
      "so...\n",
      "keep rising\n"
     ]
    }
   ],
   "source": [
    "make_poem()"
   ]
  },
  {
   "cell_type": "code",
   "execution_count": null,
   "id": "a4d03fb7-61cc-4e87-bd06-c428b40b9380",
   "metadata": {},
   "outputs": [],
   "source": []
  },
  {
   "cell_type": "code",
   "execution_count": null,
   "id": "edd7f3f0-84d4-4dc9-94f1-ba9430443ed3",
   "metadata": {},
   "outputs": [],
   "source": []
  }
 ],
 "metadata": {
  "kernelspec": {
   "display_name": "Python 3 (ipykernel)",
   "language": "python",
   "name": "python3"
  },
  "language_info": {
   "codemirror_mode": {
    "name": "ipython",
    "version": 3
   },
   "file_extension": ".py",
   "mimetype": "text/x-python",
   "name": "python",
   "nbconvert_exporter": "python",
   "pygments_lexer": "ipython3",
   "version": "3.13.3"
  }
 },
 "nbformat": 4,
 "nbformat_minor": 5
}
